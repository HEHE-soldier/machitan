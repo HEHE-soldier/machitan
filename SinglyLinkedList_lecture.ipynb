{
  "nbformat": 4,
  "nbformat_minor": 0,
  "metadata": {
    "colab": {
      "provenance": [],
      "generative_ai_disabled": true,
      "include_colab_link": true
    },
    "kernelspec": {
      "name": "python3",
      "display_name": "Python 3"
    },
    "language_info": {
      "name": "python"
    }
  },
  "cells": [
    {
      "cell_type": "markdown",
      "metadata": {
        "id": "view-in-github",
        "colab_type": "text"
      },
      "source": [
        "<a href=\"https://colab.research.google.com/github/HEHE-soldier/machitan/blob/main/SinglyLinkedList_lecture.ipynb\" target=\"_parent\"><img src=\"https://colab.research.google.com/assets/colab-badge.svg\" alt=\"Open In Colab\"/></a>"
      ]
    },
    {
      "cell_type": "code",
      "execution_count": null,
      "metadata": {
        "id": "yPNlaWhW2Hfd"
      },
      "outputs": [],
      "source": [
        "class SinglyLinkedList:\n",
        "\n",
        "  class Node:\n",
        "    # Initialize Node attributes\n",
        "    def __init__(self, data, next_node= None):\n",
        "      self._data = data\n",
        "      self._next_node = next_node\n",
        "\n",
        "    # Return the data\n",
        "    def data(self):\n",
        "      return self._data\n",
        "\n",
        "    def next(self):\n",
        "      return self._next_node\n",
        "\n",
        "    def has_next(self):\n",
        "      return self._next_node is not None\n",
        "\n",
        "    def append(self, next_node ):\n",
        "      self._next_node = next_node\n",
        "\n",
        "  # SinglyLinkedList Methods\n",
        "  def __init__(self):\n",
        "    self._head = None\n",
        "\n",
        "  def insert_to_back(self, data):\n",
        "    current = self._head\n",
        "\n",
        "    if current is None:\n",
        "      self._head = SinglyLinkedList.Node(data)\n",
        "\n",
        "    else:\n",
        "      while current.next() is not None:\n",
        "        current = current.next()\n",
        "      current.append(SinglyLinkedList.Node(data))\n",
        "\n",
        "  def insert_in_front(self, data):\n",
        "    old_head = self._head\n",
        "    self._head = SinglyLinkedList.Node(data, old_head)\n",
        "\n",
        "  def insert_at(self, index, data):\n",
        "    if index < 0:\n",
        "      raise IndexError(\"Negative index is not allowed.\")\n",
        "\n",
        "    # Inserting at the front\n",
        "    if index == 0:\n",
        "      self.insert_in_front(data)\n",
        "      return\n",
        "\n",
        "    current = self._head\n",
        "    current_index = 0\n",
        "\n",
        "    # Walk until the node just before the position\n",
        "    while current is not None and current_index < index - 1:\n",
        "      current = current.next()\n",
        "      current_index += 1\n",
        "\n",
        "    if current is None:\n",
        "      raise IndexError(\"Index out of bounds.\")\n",
        "\n",
        "    # Insert new node between current and current.next\n",
        "    new_node = SinglyLinkedList.Node(data, current.next())\n",
        "    current.append(new_node)\n",
        "\n",
        "  def delete(self, target):\n",
        "    current = self._head\n",
        "    previous = None\n",
        "\n",
        "    while current is not None:\n",
        "      if current.data() == target:\n",
        "        if previous is None:\n",
        "          self._head = current.next()\n",
        "        else:\n",
        "          previous.append(current.next())\n",
        "        return\n",
        "      previous = current\n",
        "      current = current.next()\n",
        "\n",
        "    raise ValueError(\n",
        "        f'No element with value {target}.'\n",
        "    )\n",
        "\n",
        "  def delete_from_back(self):\n",
        "    current = self._head\n",
        "    previous = None\n",
        "\n",
        "    if self.is_empty():\n",
        "      raise('Cannot delete from empty list')\n",
        "\n",
        "    else:\n",
        "      while current.next() is not None:\n",
        "        previous = current\n",
        "        current = current.next()\n",
        "      previous.append(None)\n",
        "\n",
        "  def is_empty(self) -> bool:\n",
        "    return self._head is None\n",
        "\n",
        "  def display(self):\n",
        "    current = self._head\n",
        "\n",
        "    if current is None:\n",
        "      print(\"List is empty\")\n",
        "      return\n",
        "\n",
        "    while current is not None:\n",
        "      print(current.data(), end=\"\")\n",
        "      current = current.next()\n",
        "      if current is not None:\n",
        "        print(\" -> \", end=\"\")\n",
        "    print()\n",
        "\n"
      ]
    },
    {
      "cell_type": "code",
      "source": [
        "linked_list = SinglyLinkedList()"
      ],
      "metadata": {
        "id": "RSMn52GEHP85"
      },
      "execution_count": null,
      "outputs": []
    },
    {
      "cell_type": "code",
      "source": [
        "print(linked_list)"
      ],
      "metadata": {
        "colab": {
          "base_uri": "https://localhost:8080/"
        },
        "id": "p3sFB2kFa9FL",
        "outputId": "f1ecbd7f-03c0-424e-8c2c-92179369ae94"
      },
      "execution_count": null,
      "outputs": [
        {
          "output_type": "stream",
          "name": "stdout",
          "text": [
            "<__main__.SinglyLinkedList object at 0x78f2b1189d90>\n"
          ]
        }
      ]
    },
    {
      "cell_type": "code",
      "source": [
        "# Insert in front\n",
        "linked_list.insert_in_front(1)\n",
        "linked_list.display()\n",
        "linked_list.insert_in_front(13)\n",
        "linked_list.display()"
      ],
      "metadata": {
        "colab": {
          "base_uri": "https://localhost:8080/"
        },
        "outputId": "723823a2-72ed-4819-8c93-0d8ebbab4e31",
        "id": "G5SDThWYLhNO"
      },
      "execution_count": null,
      "outputs": [
        {
          "output_type": "stream",
          "name": "stdout",
          "text": [
            "1\n",
            "13 -> 1\n"
          ]
        }
      ]
    },
    {
      "cell_type": "code",
      "source": [
        "# Insert in back\n",
        "linked_list.insert_to_back(2)\n",
        "linked_list.display()\n",
        "linked_list.insert_to_back(3)\n",
        "linked_list.display()\n",
        "linked_list.insert_to_back(4)\n",
        "linked_list.display()"
      ],
      "metadata": {
        "colab": {
          "base_uri": "https://localhost:8080/"
        },
        "outputId": "951f340c-c1e3-4d7f-9760-38fd631adafe",
        "id": "n9xYIDomLy-N"
      },
      "execution_count": null,
      "outputs": [
        {
          "output_type": "stream",
          "name": "stdout",
          "text": [
            "13 -> 1 -> 2\n",
            "13 -> 1 -> 2 -> 3\n",
            "13 -> 1 -> 2 -> 3 -> 4\n"
          ]
        }
      ]
    },
    {
      "cell_type": "code",
      "source": [
        "# insert at any given index\n",
        "linked_list.insert_at(1, 10)\n",
        "linked_list.display()"
      ],
      "metadata": {
        "colab": {
          "base_uri": "https://localhost:8080/"
        },
        "id": "VmU7nao9p95B",
        "outputId": "7a3e5b30-72d0-4446-c894-c704b54f5779"
      },
      "execution_count": null,
      "outputs": [
        {
          "output_type": "stream",
          "name": "stdout",
          "text": [
            "13 -> 10 -> 1 -> 2 -> 3 -> 4\n"
          ]
        }
      ]
    },
    {
      "cell_type": "code",
      "source": [
        "# Delete from back\n",
        "linked_list.delete_from_back()\n",
        "linked_list.display()\n",
        "\n",
        "linked_list.delete_from_back()\n",
        "linked_list.display()"
      ],
      "metadata": {
        "colab": {
          "base_uri": "https://localhost:8080/"
        },
        "id": "0TU_2nQPMPAW",
        "outputId": "050e54ab-1f5d-40b9-bd86-2caca40d2683"
      },
      "execution_count": null,
      "outputs": [
        {
          "output_type": "stream",
          "name": "stdout",
          "text": [
            "13 -> 10 -> 1 -> 2 -> 3\n",
            "13 -> 10 -> 1 -> 2\n"
          ]
        }
      ]
    },
    {
      "cell_type": "code",
      "source": [
        "# delete specific element\n",
        "linked_list.insert_to_back(6)\n",
        "linked_list.insert_to_back(23)\n",
        "linked_list.display()"
      ],
      "metadata": {
        "colab": {
          "base_uri": "https://localhost:8080/"
        },
        "id": "p3sPnK7KNgKG",
        "outputId": "4ef29cec-2b38-4a31-cae7-837d38d71656"
      },
      "execution_count": null,
      "outputs": [
        {
          "output_type": "stream",
          "name": "stdout",
          "text": [
            "13 -> 10 -> 1 -> 2 -> 6 -> 23\n"
          ]
        }
      ]
    },
    {
      "cell_type": "code",
      "source": [
        "# delete an element that does not exist\n",
        "linked_list.delete(100)\n",
        "linked_list.display()"
      ],
      "metadata": {
        "colab": {
          "base_uri": "https://localhost:8080/",
          "height": 297
        },
        "id": "Ctgq3IenN7Da",
        "outputId": "9522c44d-4e9d-4fb4-bdd5-b4ed0c6c512a"
      },
      "execution_count": null,
      "outputs": [
        {
          "output_type": "error",
          "ename": "ValueError",
          "evalue": "No element with value 100.",
          "traceback": [
            "\u001b[0;31m---------------------------------------------------------------------------\u001b[0m",
            "\u001b[0;31mValueError\u001b[0m                                Traceback (most recent call last)",
            "\u001b[0;32m/tmp/ipython-input-2461978970.py\u001b[0m in \u001b[0;36m<cell line: 0>\u001b[0;34m()\u001b[0m\n\u001b[1;32m      1\u001b[0m \u001b[0;31m# delete an element that does not exist\u001b[0m\u001b[0;34m\u001b[0m\u001b[0;34m\u001b[0m\u001b[0m\n\u001b[0;32m----> 2\u001b[0;31m \u001b[0mlinked_list\u001b[0m\u001b[0;34m.\u001b[0m\u001b[0mdelete\u001b[0m\u001b[0;34m(\u001b[0m\u001b[0;36m100\u001b[0m\u001b[0;34m)\u001b[0m\u001b[0;34m\u001b[0m\u001b[0;34m\u001b[0m\u001b[0m\n\u001b[0m\u001b[1;32m      3\u001b[0m \u001b[0mlinked_list\u001b[0m\u001b[0;34m.\u001b[0m\u001b[0mdisplay\u001b[0m\u001b[0;34m(\u001b[0m\u001b[0;34m)\u001b[0m\u001b[0;34m\u001b[0m\u001b[0;34m\u001b[0m\u001b[0m\n",
            "\u001b[0;32m/tmp/ipython-input-2696886651.py\u001b[0m in \u001b[0;36mdelete\u001b[0;34m(self, target)\u001b[0m\n\u001b[1;32m     77\u001b[0m       \u001b[0mcurrent\u001b[0m \u001b[0;34m=\u001b[0m \u001b[0mcurrent\u001b[0m\u001b[0;34m.\u001b[0m\u001b[0mnext\u001b[0m\u001b[0;34m(\u001b[0m\u001b[0;34m)\u001b[0m\u001b[0;34m\u001b[0m\u001b[0;34m\u001b[0m\u001b[0m\n\u001b[1;32m     78\u001b[0m \u001b[0;34m\u001b[0m\u001b[0m\n\u001b[0;32m---> 79\u001b[0;31m     raise ValueError(\n\u001b[0m\u001b[1;32m     80\u001b[0m         \u001b[0;34mf'No element with value {target}.'\u001b[0m\u001b[0;34m\u001b[0m\u001b[0;34m\u001b[0m\u001b[0m\n\u001b[1;32m     81\u001b[0m     )\n",
            "\u001b[0;31mValueError\u001b[0m: No element with value 100."
          ]
        }
      ]
    },
    {
      "cell_type": "markdown",
      "source": [
        "Exercise:\n",
        "\n",
        "1. Add a method to delete an element in front(delete head)\n",
        "2. Add a method to delete an element in the specific index.\n"
      ],
      "metadata": {
        "id": "egWXIQFzqmbj"
      }
    }
  ]
}