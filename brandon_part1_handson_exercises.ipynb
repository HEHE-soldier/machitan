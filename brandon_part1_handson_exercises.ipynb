{
  "nbformat": 4,
  "nbformat_minor": 0,
  "metadata": {
    "colab": {
      "provenance": [],
      "private_outputs": true,
      "generative_ai_disabled": true,
      "include_colab_link": true
    },
    "kernelspec": {
      "name": "python3",
      "display_name": "Python 3"
    },
    "language_info": {
      "name": "python"
    }
  },
  "cells": [
    {
      "cell_type": "markdown",
      "metadata": {
        "id": "view-in-github",
        "colab_type": "text"
      },
      "source": [
        "<a href=\"https://colab.research.google.com/github/HEHE-soldier/machitan/blob/main/brandon_part1_handson_exercises.ipynb\" target=\"_parent\"><img src=\"https://colab.research.google.com/assets/colab-badge.svg\" alt=\"Open In Colab\"/></a>"
      ]
    },
    {
      "cell_type": "markdown",
      "source": [
        "**Part 1 Hands On Exercises: Stack exercises**\n",
        "-\n",
        "\n",
        "Make sure to create a copy of this file on your drive, then accomplish all assigned exercises. To submit, make sure to add me as a viewer of the file (donpochulo.tidor@ustp.edu.ph), then copy the link of your notebook then comment it in the google classroom submission, don't upload your entire notebook file in the google classroom just comment the link of your file and turn in. Will only accept submissions from google collab, no \".py\" files etc. Not following instructions will be automatically marked as **zero**, this exercise serves as your activity and part of the midterm PIT at the same time.  \n",
        "\n",
        "**Deadline October 15, 2025**"
      ],
      "metadata": {
        "id": "5KKQ5TGiNzUM"
      }
    },
    {
      "cell_type": "markdown",
      "source": [
        "1.) Using simple list implementation and without using Python built in reverse method, reverse a string using **stack**.\n",
        "-\n",
        "\n",
        "```\n",
        "Example:\n",
        "input: \"Python\"\n",
        "output: \"nohtyP\"\n",
        "\n",
        "input: \"Hello\"\n",
        "output: \"olleH\"\n",
        "```\n",
        "\n"
      ],
      "metadata": {
        "id": "lvK8E8cqmflN"
      }
    },
    {
      "cell_type": "code",
      "source": [
        "def reverse_string(word: str) -> str:\n",
        "  # insert your code here\n",
        "  pass"
      ],
      "metadata": {
        "id": "u4D0L7JfnPxZ"
      },
      "execution_count": null,
      "outputs": []
    },
    {
      "cell_type": "markdown",
      "source": [
        "2.) Using simple list implementation of **stack** and without using built in reverse method in python, evaluate if a string is a palindrome.\n",
        "-\n",
        "\n",
        "\n",
        "```\n",
        "Example\n",
        "\n",
        "input: \"stack\"\n",
        "output: false\n",
        "\n",
        "input: \"madam\"\n",
        "output: true\n",
        "```\n",
        "\n"
      ],
      "metadata": {
        "id": "RIUcZoWbnVHC"
      }
    },
    {
      "cell_type": "code",
      "source": [
        "def palindrome_string(word: str):\n",
        "  # insert your code here\n",
        "  pass"
      ],
      "metadata": {
        "id": "BdohQNipoAk-"
      },
      "execution_count": null,
      "outputs": []
    },
    {
      "cell_type": "markdown",
      "source": [
        "3.) Write a program that checks whether a given string of symbols is balanced using **stack**.\n",
        "-\n",
        "- A string is balanced if every opening symbol ((, {, [) has a corresponding closing symbol (), }, ]) and they are properly nested.\n",
        "\n",
        "\n",
        "\n",
        "```\n",
        "Balanced → \"()\", \"([])\", \"{[()]}\"\n",
        "Not balanced → \"(\", \"([)]\", \"{]\"\n",
        "```"
      ],
      "metadata": {
        "id": "AJH6mmHFpSgV"
      }
    },
    {
      "cell_type": "code",
      "source": [
        "def balance_symbols(expression: str):\n",
        "  # insert your code here\n",
        "  pass"
      ],
      "metadata": {
        "id": "ObeAJXy-pxNq"
      },
      "execution_count": null,
      "outputs": []
    },
    {
      "cell_type": "markdown",
      "source": [
        "4.) Create a stack class with stack operations, using the stack class, implement a program that will convert infix expression into postfix expression.\n",
        "-"
      ],
      "metadata": {
        "id": "U_vwrsdcLjZx"
      }
    },
    {
      "cell_type": "code",
      "source": [
        "class Stack:\n",
        "  pass"
      ],
      "metadata": {
        "id": "gEfEjgZ9ZSOn"
      },
      "execution_count": null,
      "outputs": []
    },
    {
      "cell_type": "code",
      "source": [
        "def infix_to_postfix(expression: str):\n",
        "  stack = Stack()\n",
        "  # insert your code here\n",
        "  pass"
      ],
      "metadata": {
        "id": "loUeC8f_Ljsx"
      },
      "execution_count": null,
      "outputs": []
    },
    {
      "cell_type": "markdown",
      "source": [
        "5.) Using the same stack class, implement a program to evaluate a postfix expression.\n",
        "-"
      ],
      "metadata": {
        "id": "AZT-lKjxKt-W"
      }
    },
    {
      "cell_type": "code",
      "source": [
        "def postfix_evaluation(expression: str):\n",
        "  stack = Stack()\n",
        "  # insert your code here\n",
        "  pass"
      ],
      "metadata": {
        "id": "JjrfnAbtLVGO"
      },
      "execution_count": null,
      "outputs": []
    },
    {
      "cell_type": "markdown",
      "source": [
        "6.) Using the stack class, implement a program that will convert an infix expression into prefix expression.\n",
        "-"
      ],
      "metadata": {
        "id": "RFNXeZ_NaTAU"
      }
    },
    {
      "cell_type": "code",
      "source": [
        "def infix_to_prefix(expression: str) -> str:\n",
        "  stack = Stack()\n",
        "  # insert your code here.\n",
        "  pass"
      ],
      "metadata": {
        "id": "8xGXlg7eadsH"
      },
      "execution_count": null,
      "outputs": []
    }
  ]
}