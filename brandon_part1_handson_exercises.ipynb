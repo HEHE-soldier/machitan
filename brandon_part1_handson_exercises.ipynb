{
  "nbformat": 4,
  "nbformat_minor": 0,
  "metadata": {
    "colab": {
      "provenance": [],
      "private_outputs": true,
      "generative_ai_disabled": true,
      "include_colab_link": true
    },
    "kernelspec": {
      "name": "python3",
      "display_name": "Python 3"
    },
    "language_info": {
      "name": "python"
    }
  },
  "cells": [
    {
      "cell_type": "markdown",
      "metadata": {
        "id": "view-in-github",
        "colab_type": "text"
      },
      "source": [
        "<a href=\"https://colab.research.google.com/github/HEHE-soldier/machitan/blob/main/brandon_part1_handson_exercises.ipynb\" target=\"_parent\"><img src=\"https://colab.research.google.com/assets/colab-badge.svg\" alt=\"Open In Colab\"/></a>"
      ]
    },
    {
      "cell_type": "markdown",
      "source": [
        "**Part 1 Hands On Exercises: Stack exercises**\n",
        "-\n",
        "\n",
        "Make sure to create a copy of this file on your drive, then accomplish all assigned exercises. To submit, make sure to add me as a viewer of the file (donpochulo.tidor@ustp.edu.ph), then copy the link of your notebook then comment it in the google classroom submission, don't upload your entire notebook file in the google classroom just comment the link of your file and turn in. Will only accept submissions from google collab, no \".py\" files etc. Not following instructions will be automatically marked as **zero**, this exercise serves as your activity and part of the midterm PIT at the same time.  \n",
        "\n",
        "**Deadline October 15, 2025**"
      ],
      "metadata": {
        "id": "5KKQ5TGiNzUM"
      }
    },
    {
      "cell_type": "markdown",
      "source": [
        "1.) Using simple list implementation and without using Python built in reverse method, reverse a string using **stack**.\n",
        "-\n",
        "\n",
        "```\n",
        "Example:\n",
        "input: \"Python\"\n",
        "output: \"nohtyP\"\n",
        "\n",
        "input: \"Hello\"\n",
        "output: \"olleH\"\n",
        "```\n",
        "\n"
      ],
      "metadata": {
        "id": "lvK8E8cqmflN"
      }
    },
    {
      "cell_type": "code",
      "source": [
        "name = input(\"Enter your name:\")\n",
        "stack = []\n",
        "reversed_string = \"\"\n",
        "for char in name:\n",
        "  stack.append(char)\n",
        "while len(stack) !=0:\n",
        "  reversed_string += stack.pop()\n",
        "print(f\"{reversed_string} olleH\")"
      ],
      "metadata": {
        "id": "u4D0L7JfnPxZ"
      },
      "execution_count": null,
      "outputs": []
    },
    {
      "cell_type": "markdown",
      "source": [
        "2.) Using simple list implementation of **stack** and without using built in reverse method in python, evaluate if a string is a palindrome.\n",
        "-\n",
        "\n",
        "\n",
        "```\n",
        "Example\n",
        "\n",
        "input: \"stack\"\n",
        "output: false\n",
        "\n",
        "input: \"madam\"\n",
        "output: true\n",
        "```\n",
        "\n"
      ],
      "metadata": {
        "id": "RIUcZoWbnVHC"
      }
    },
    {
      "cell_type": "code",
      "source": [
        "name = input(\"Enter a palindrome:\")\n",
        "stack = []\n",
        "reversed_string = \"\"\n",
        "for char in name:\n",
        "  stack.append(char)\n",
        "while len(stack) !=0:\n",
        "  reversed_string += stack.pop()\n",
        "if(reversed_string == name):\n",
        "  print(f\"{name} is a palindrome\")\n",
        "else:\n",
        "  print(f\"{name} is not a palindrome\")"
      ],
      "metadata": {
        "id": "BdohQNipoAk-"
      },
      "execution_count": null,
      "outputs": []
    },
    {
      "cell_type": "markdown",
      "source": [
        "3.) Write a program that checks whether a given string of symbols is balanced using **stack**.\n",
        "-\n",
        "- A string is balanced if every opening symbol ((, {, [) has a corresponding closing symbol (), }, ]) and they are properly nested.\n",
        "\n",
        "\n",
        "\n",
        "```\n",
        "Balanced → \"()\", \"([])\", \"{[()]}\"\n",
        "Not balanced → \"(\", \"([)]\", \"{]\"\n",
        "```"
      ],
      "metadata": {
        "id": "AJH6mmHFpSgV"
      }
    },
    {
      "cell_type": "code",
      "source": [
        "stack = []\n",
        "push = '('\n",
        "pop = ')'\n",
        "expression = input(\"Enter a mathematical expression\")\n",
        "for char in expression:\n",
        "  if char in push:\n",
        "    stack.append(char)\n",
        "  elif char in pop:\n",
        "    if len(stack) == 0:\n",
        "      print(\"INVALID\")\n",
        "      break;\n",
        "    stack.pop()\n",
        "if len(stack) == 0:\n",
        "  print(\"VALID\");\n",
        "else:\n",
        "  print(\"INVALID\")\n"
      ],
      "metadata": {
        "id": "ObeAJXy-pxNq"
      },
      "execution_count": null,
      "outputs": []
    },
    {
      "cell_type": "markdown",
      "source": [
        "4.) Create a stack class with stack operations, using the stack class, implement a program that will convert infix expression into postfix expression.\n",
        "-"
      ],
      "metadata": {
        "id": "U_vwrsdcLjZx"
      }
    },
    {
      "cell_type": "code",
      "source": [
        "class Stack:\n",
        "  def operator(ope):\n",
        "    return(ope == '+' or ope == '-' or ope == '*' or ope == '/' or ope == '^')\n",
        "  pass\n",
        "  def orderofoperations(op):\n",
        "    if op =='^':\n",
        "      return 3\n",
        "    elif (op =='*' or op == '/'):\n",
        "      return 2\n",
        "    elif (op == '+' or op == '-'):\n",
        "      return 1\n",
        "    else:\n",
        "      return -1\n",
        "  pass"
      ],
      "metadata": {
        "id": "gEfEjgZ9ZSOn"
      },
      "execution_count": null,
      "outputs": []
    },
    {
      "cell_type": "code",
      "source": [
        "infix = input(\"Enter an infix mathematical expression\")\n",
        "postfix = ''\n",
        "stack = []\n",
        "\n",
        "for i in infix:\n",
        "  if i.isalnum():\n",
        "    postfix += i\n",
        "  elif i == '(':\n",
        "    stack.append(i)\n",
        "  elif i == ')':\n",
        "    while (len(stack)!=0 and stack[-1]!='('):\n",
        "      postfix+=stack.pop()\n",
        "    if (len(stack)!=0 and stack[-1]=='('):\n",
        "      stack.pop()\n",
        "  elif Stack.operator(i):\n",
        "    while(len(stack)!=0 and Stack.orderofoperations(i)<=Stack.orderofoperations(stack[-1])):\n",
        "        postfix+=stack.pop()\n",
        "    stack.append(i)\n",
        "  print(postfix)\n"
      ],
      "metadata": {
        "id": "loUeC8f_Ljsx"
      },
      "execution_count": null,
      "outputs": []
    },
    {
      "cell_type": "markdown",
      "source": [
        "5.) Using the same stack class, implement a program to evaluate a postfix expression.\n",
        "-"
      ],
      "metadata": {
        "id": "AZT-lKjxKt-W"
      }
    },
    {
      "cell_type": "code",
      "source": [
        "infix = input(\"Enter an infix mathematical expression\")\n",
        "postfix = ''\n",
        "stack = []\n",
        "\n",
        "for i in infix:\n",
        "  if i.isalnum():\n",
        "    postfix += i\n",
        "  elif i == '(':\n",
        "    stack.append(i)\n",
        "  elif i == ')':\n",
        "    while (len(stack)!=0 and stack[-1]!='('):\n",
        "      postfix+=stack.pop()\n",
        "    if (len(stack)!=0 and stack[-1]=='('):\n",
        "      stack.pop()\n",
        "  elif Stack.operator(i):\n",
        "    while(len(stack)!=0 and Stack.orderofoperations(i)<=Stack.orderofoperations(stack[-1])):\n",
        "        postfix+=stack.pop()\n",
        "    stack.append(i)\n",
        "while(len(stack)!=0):
        "postfix+=stack.pop()
        "print(postfix)"
      ],
      "metadata": {
        "id": "JjrfnAbtLVGO"
      },
      "execution_count": null,
      "outputs": []
    },
    {
      "cell_type": "markdown",
      "source": [
        "6.) Using the stack class, implement a program that will convert an infix expression into prefix expression.\n",
        "-"
      ],
      "metadata": {
        "id": "RFNXeZ_NaTAU"
      }
    },
    {
      "cell_type": "code",
      "source": [],
      "metadata": {
        "id": "8xGXlg7eadsH"
      },
      "execution_count": null,
      "outputs": []
    }
  ]
}
